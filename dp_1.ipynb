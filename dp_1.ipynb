{
  "cells": [
    {
      "cell_type": "markdown",
      "metadata": {
        "id": "XC7OWvFP4-QG"
      },
      "source": [
        "# 동적 프로그래밍(Dynamic programming)\n",
        "\n",
        "## 행렬 경로 문제\n",
        "\n"
      ]
    },
    {
      "cell_type": "code",
      "execution_count": 9,
      "metadata": {
        "colab": {
          "base_uri": "https://localhost:8080/"
        },
        "id": "Lh2GXv4P4-QH",
        "outputId": "9f5f5ee9-149e-4e11-fb37-51127b89c7a1"
      },
      "outputs": [
        {
          "output_type": "stream",
          "name": "stdout",
          "text": [
            "given matrix: \n",
            "[[15 12  4 17 19 10 15 10  4 14]\n",
            " [10  7  6  9  9  4  4  8 20  5]\n",
            " [ 9 15  3  5 17 10  7 18  7 12]\n",
            " [ 9 18  5  4 19 11  6 12 12 19]\n",
            " [ 3  3  9  3  7 15 16 13 19 19]\n",
            " [19  4 10 10 11 20 17 14 18 12]\n",
            " [14 19  6 20 15  3  8 14 10 19]\n",
            " [ 4 14 14  8 11 18 11 11 19 11]\n",
            " [ 3 14 16 14 18 10 17 20  6 13]\n",
            " [19  8  6 13 18 15 14 18 10  5]]\n",
            "cost matrix: \n",
            "[[ 15  27  31  48  67  77  92 102 106 120]\n",
            " [ 25  34  40  57  76  81  96 110 130 135]\n",
            " [ 34  49  52  62  93 103 110 128 137 149]\n",
            " [ 43  67  72  76 112 123 129 141 153 172]\n",
            " [ 46  70  81  84 119 138 154 167 186 205]\n",
            " [ 65  74  91 101 130 158 175 189 207 219]\n",
            " [ 79  98 104 124 145 161 183 203 217 238]\n",
            " [ 83 112 126 134 156 179 194 214 236 249]\n",
            " [ 86 126 142 156 174 189 211 234 242 262]\n",
            " [105 134 148 169 192 207 225 252 262 267]]\n"
          ]
        }
      ],
      "source": [
        "import random\n",
        "import numpy as np\n",
        "\n",
        "class MatrixPathProblem:\n",
        "    def __init__(self, matrix_size: int):\n",
        "        size = matrix_size\n",
        "\n",
        "        max_value = 20 + 1\n",
        "        min_value = 3\n",
        "        # 행렬 랜덤 초기화\n",
        "        self.matrix = [[random.randrange(min_value, max_value) for i in range(size)] for j in range(size)]\n",
        "        # 비용 행렬 초기화\n",
        "        self.c = [[0 for i in range(size)] for j in range(size)]\n",
        "\n",
        "        # n, n 까지 이르는 경로중 최대 점수\n",
        "        self.CalculatePath(size - 1, size - 1)\n",
        "\n",
        "        # 결과 출력\n",
        "        self.print_result()\n",
        "\n",
        "    def CalculatePath(self, i, j):\n",
        "        # 초기값 설정\n",
        "        self.c[0][0] = self.matrix[0][0]\n",
        "\n",
        "        # 첫 번째 행 초기화\n",
        "        for col in range(1, j + 1):\n",
        "            self.c[0][col] = self.c[0][col - 1] + self.matrix[0][col]\n",
        "\n",
        "        # 첫 번째 열 초기화\n",
        "        for row in range(1, i + 1):\n",
        "            self.c[row][0] = self.c[row - 1][0] + self.matrix[row][0]\n",
        "\n",
        "        # 나머지 셀 계산\n",
        "        for row in range(1, i + 1):\n",
        "            for col in range(1, j + 1):\n",
        "                self.c[row][col] = self.matrix[row][col] + max(self.c[row - 1][col], self.c[row][col - 1])\n",
        "\n",
        "    def print_result(self):\n",
        "        print(\"given matrix: \")\n",
        "        print(np.matrix(self.matrix))\n",
        "        print(\"cost matrix: \")\n",
        "        print(np.matrix(self.c))\n",
        "\n",
        "# 테스트 실행\n",
        "mpp = MatrixPathProblem(10)\n"
      ]
    },
    {
      "cell_type": "markdown",
      "metadata": {
        "id": "RgDoitfO4-QJ"
      },
      "source": [
        "## 돌 놓기"
      ]
    },
    {
      "cell_type": "code",
      "execution_count": null,
      "metadata": {
        "id": "dnP0yP-a4-QJ",
        "outputId": "f7b14680-8315-48ce-b483-ca2c681e545f"
      },
      "outputs": [
        {
          "name": "stdout",
          "output_type": "stream",
          "text": [
            "[[13  6  3]\n",
            " [13 16 19]\n",
            " [ 5  3 12]\n",
            " [17  6 15]\n",
            " [15 11  5]]\n",
            "[[13  6  3 16]\n",
            " [19 32 32 38]\n",
            " [37 41 44 49]\n",
            " [61 55 56 73]\n",
            " [71 84 66 75]]\n",
            "\u001b[31m13\u001b[0m \u001b[32m6\u001b[0m \u001b[31m3\u001b[0m \n",
            "\u001b[31m13\u001b[0m \u001b[32m16\u001b[0m \u001b[31m19\u001b[0m \n",
            "\u001b[32m5\u001b[0m \u001b[31m3\u001b[0m \u001b[32m12\u001b[0m \n",
            "\u001b[31m17\u001b[0m \u001b[32m6\u001b[0m \u001b[31m15\u001b[0m \n",
            "\u001b[32m15\u001b[0m \u001b[31m11\u001b[0m \u001b[32m5\u001b[0m \n"
          ]
        }
      ],
      "source": [
        "class PebbleStone:\n",
        "\n",
        "    def __init__(self, size:int):\n",
        "        self.size = size\n",
        "\n",
        "        max_value = 20 + 1\n",
        "        min_value = -20\n",
        "\n",
        "        # 행렬 랜덤 초기화\n",
        "        self.matrix = [[random.randrange(min_value, max_value) for i in range(3)] for j in range(size)];\n",
        "        print(np.matrix(self.matrix))\n",
        "\n",
        "        self.pattern = [[0], [1], [2], [0, 2]]\n",
        "\n",
        "        self.compatable_p = [[1, 2], [0, 2, 3], [0, 1], [1]]\n",
        "\n",
        "        self.peb = [[0 for i in range(4)] for j in range(size)]\n",
        "\n",
        "        self.pebble(size)\n",
        "        self.printPebbles()\n",
        "\n",
        "\n",
        "    def pebble(self, n:int):\n",
        "        pass\n",
        "\n",
        "\n",
        "    def printPebbles(self):\n",
        "        selectIdx = [-1 for _ in range(self.size)]\n",
        "\n",
        "        # get the index of the solution\n",
        "        sol_p = self.peb[self.size-1].index( max(self.peb[self.size-1]) )\n",
        "        selectIdx[self.size-1] = sol_p\n",
        "\n",
        "\n",
        "        for i in range(self.size-1, 1, -1):\n",
        "            p = selectIdx[i]\n",
        "            w = sum([ self.matrix[i][j] for j in self.pattern[p]])\n",
        "            peb_cost = self.peb[i][p]\n",
        "            selectIdx[i-1] = self.peb[i-1].index( peb_cost - w )\n",
        "\n",
        "\n",
        "        for i in range(self.size):\n",
        "            for j in range(3):\n",
        "                sol_pattern = self.pattern[selectIdx[i]]\n",
        "                str = \"\\x1b[{}m{}\\x1b[0m \".format(31 if j in sol_pattern else 32, self.matrix[i][j])\n",
        "                print(str, end='')\n",
        "            print('')\n",
        "\n",
        "\n",
        "# let's test\n",
        "ps = PebbleStone(5)"
      ]
    },
    {
      "cell_type": "markdown",
      "metadata": {
        "id": "z8locFsP4-QJ"
      },
      "source": [
        "## 행렬의 곱셈"
      ]
    },
    {
      "cell_type": "code",
      "execution_count": null,
      "metadata": {
        "id": "-b3il0ZR4-QJ",
        "outputId": "1d7fcab5-217d-4f8c-ff65-04472cf8513a"
      },
      "outputs": [
        {
          "name": "stdout",
          "output_type": "stream",
          "text": [
            "[15, 7, 5, 10, 14, 5]\n",
            "[[   0  525 1275 2275 1650]\n",
            " [   0    0  350 1190 1125]\n",
            " [   0    0    0  700  950]\n",
            " [   0    0    0    0  700]\n",
            " [   0    0    0    0    0]]\n",
            "0(1(2(34)))\n"
          ]
        }
      ],
      "source": [
        "class MathMultiply:\n",
        "    def __init__(self, size:int):\n",
        "        self.size = size\n",
        "\n",
        "        max_value = 20 + 1\n",
        "        min_value = 3\n",
        "\n",
        "        self.p = [random.randrange(min_value, max_value) for _ in range(0, size+1)]\n",
        "        self.m = [[0 for i in range(size)] for j in range(size)]\n",
        "\n",
        "        print(self.p)\n",
        "\n",
        "        self.matrixchain(size)\n",
        "\n",
        "        print(np.matrix(self.m))\n",
        "\n",
        "        self.drawParentheses()\n",
        "\n",
        "\n",
        "    def matrixchain(self, n:int):\n",
        "        pass\n",
        "\n",
        "    def drawParentheses(self):\n",
        "        s_paren = []\n",
        "        e_paren = []\n",
        "\n",
        "        def rParentheses(i:int, j:int):\n",
        "            if( i == j ):\n",
        "                return False\n",
        "\n",
        "            idx = [self.m[i][k] + self.m[k+1][j] for k in range(i, j)]\n",
        "            m_idx = min(idx)\n",
        "\n",
        "            k = idx.index(m_idx) + i\n",
        "\n",
        "            # v = m_idx + self.p[i]*self.p[k+1]*self.p[j+1]\n",
        "\n",
        "            if rParentheses(i, k):\n",
        "                s_paren.append(i)\n",
        "                e_paren.append(k)\n",
        "\n",
        "            if rParentheses(k+1, j):\n",
        "                s_paren.append(k+1)\n",
        "                e_paren.append(j)\n",
        "\n",
        "            return True\n",
        "\n",
        "        rParentheses(0, self.size-1)\n",
        "\n",
        "        result = \"\"\n",
        "        for i in range(self.size):\n",
        "            c = len([k for k in s_paren if k == i])\n",
        "            for _ in range(c):\n",
        "                result += \"(\"\n",
        "            result += str(i)\n",
        "\n",
        "            c = len([k for k in e_paren if k == i])\n",
        "            for _ in range(c):\n",
        "                result += \")\"\n",
        "\n",
        "        print(result)\n",
        "\n",
        "\n",
        "\n",
        "mm = MathMultiply(5)"
      ]
    }
  ],
  "metadata": {
    "kernelspec": {
      "display_name": ".venv",
      "language": "python",
      "name": "python3"
    },
    "language_info": {
      "codemirror_mode": {
        "name": "ipython",
        "version": 3
      },
      "file_extension": ".py",
      "mimetype": "text/x-python",
      "name": "python",
      "nbconvert_exporter": "python",
      "pygments_lexer": "ipython3",
      "version": "3.12.3"
    },
    "colab": {
      "provenance": []
    }
  },
  "nbformat": 4,
  "nbformat_minor": 0
}