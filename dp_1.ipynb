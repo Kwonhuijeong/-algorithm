{
  "cells": [
    {
      "cell_type": "markdown",
      "metadata": {
        "id": "view-in-github",
        "colab_type": "text"
      },
      "source": [
        "<a href=\"https://colab.research.google.com/github/Kwonhuijeong/-algorithm/blob/main/dp_1.ipynb\" target=\"_parent\"><img src=\"https://colab.research.google.com/assets/colab-badge.svg\" alt=\"Open In Colab\"/></a>"
      ]
    },
    {
      "cell_type": "markdown",
      "metadata": {
        "id": "XC7OWvFP4-QG"
      },
      "source": [
        "# 동적 프로그래밍(Dynamic programming)\n",
        "\n",
        "## 행렬 경로 문제\n",
        "\n"
      ]
    },
    {
      "cell_type": "code",
      "execution_count": 10,
      "metadata": {
        "colab": {
          "base_uri": "https://localhost:8080/"
        },
        "id": "Lh2GXv4P4-QH",
        "outputId": "d3534af0-51d5-4307-f297-1d9956ba5c96"
      },
      "outputs": [
        {
          "output_type": "stream",
          "name": "stdout",
          "text": [
            "given matrix: \n",
            "[[15 18 13  8  8  3 19 13  5 14]\n",
            " [15 18  3 15 15 12  7 11 13 14]\n",
            " [ 6  6  8 14 20 17 15  6  8 18]\n",
            " [17  5 16 18 16 11  7 15 12 17]\n",
            " [16 20 20 20  4 10 15  3  8  7]\n",
            " [10  7  4  3  6 17 16 19 15 17]\n",
            " [18  9 20 19  5  3 20 11  3  3]\n",
            " [20  7 17 11  8  9  9 17 11 19]\n",
            " [19  7 20 15  8  6  6 18  6  8]\n",
            " [14 13 12 20  8 16  6  4 11  9]]\n",
            "cost matrix: \n",
            "[[ 15  33  46  54  62  65  84  97 102 116]\n",
            " [ 30  51  54  69  84  96 103 114 127 141]\n",
            " [ 36  57  65  83 104 121 136 142 150 168]\n",
            " [ 53  62  81 101 120 132 143 158 170 187]\n",
            " [ 69  89 109 129 133 143 158 161 178 194]\n",
            " [ 79  96 113 132 139 160 176 195 210 227]\n",
            " [ 97 106 133 152 157 163 196 207 213 230]\n",
            " [117 124 150 163 171 180 205 224 235 254]\n",
            " [136 143 170 185 193 199 211 242 248 262]\n",
            " [150 163 182 205 213 229 235 246 259 271]]\n"
          ]
        }
      ],
      "source": [
        "import random\n",
        "import numpy as np\n",
        "\n",
        "class MatrixPathProblem:\n",
        "    def __init__(self, matrix_size: int):\n",
        "        size = matrix_size\n",
        "\n",
        "        max_value = 20 + 1\n",
        "        min_value = 3\n",
        "        # 행렬 랜덤 초기화\n",
        "        self.matrix = [[random.randrange(min_value, max_value) for i in range(size)] for j in range(size)]\n",
        "        # 비용 행렬 초기화\n",
        "        self.c = [[0 for i in range(size)] for j in range(size)]\n",
        "\n",
        "        # n, n 까지 이르는 경로중 최대 점수\n",
        "        self.CalculatePath(size - 1, size - 1)\n",
        "\n",
        "        # 결과 출력\n",
        "        self.print_result()\n",
        "\n",
        "    def CalculatePath(self, i, j):\n",
        "        # 초기값 설정\n",
        "        self.c[0][0] = self.matrix[0][0]\n",
        "\n",
        "        # 첫 번째 행 초기화\n",
        "        for col in range(1, j + 1):\n",
        "            self.c[0][col] = self.c[0][col - 1] + self.matrix[0][col]\n",
        "\n",
        "        # 첫 번째 열 초기화\n",
        "        for row in range(1, i + 1):\n",
        "            self.c[row][0] = self.c[row - 1][0] + self.matrix[row][0]\n",
        "\n",
        "        # 나머지 셀 계산\n",
        "        for row in range(1, i + 1):\n",
        "            for col in range(1, j + 1):\n",
        "                self.c[row][col] = self.matrix[row][col] + max(self.c[row - 1][col], self.c[row][col - 1])\n",
        "\n",
        "    def print_result(self):\n",
        "        print(\"given matrix: \")\n",
        "        print(np.matrix(self.matrix))\n",
        "        print(\"cost matrix: \")\n",
        "        print(np.matrix(self.c))\n",
        "\n",
        "# 테스트 실행\n",
        "mpp = MatrixPathProblem(10)\n"
      ]
    },
    {
      "cell_type": "markdown",
      "metadata": {
        "id": "RgDoitfO4-QJ"
      },
      "source": [
        "## 돌 놓기"
      ]
    },
    {
      "cell_type": "code",
      "execution_count": 12,
      "metadata": {
        "colab": {
          "base_uri": "https://localhost:8080/"
        },
        "id": "dnP0yP-a4-QJ",
        "outputId": "f896f92f-a285-4a83-d7fb-309c19911372"
      },
      "outputs": [
        {
          "output_type": "stream",
          "name": "stdout",
          "text": [
            "[[ -6   5 -18]\n",
            " [ -4 -18  11]\n",
            " [ 16  14   1]\n",
            " [ -1  12  -3]\n",
            " [-11 -19 -11]]\n",
            "\u001b[31m-6\u001b[0m \u001b[32m5\u001b[0m \u001b[31m-18\u001b[0m \n",
            "\u001b[32m-4\u001b[0m \u001b[32m-18\u001b[0m \u001b[31m11\u001b[0m \n",
            "\u001b[31m16\u001b[0m \u001b[32m14\u001b[0m \u001b[32m1\u001b[0m \n",
            "\u001b[32m-1\u001b[0m \u001b[31m12\u001b[0m \u001b[32m-3\u001b[0m \n",
            "\u001b[31m-11\u001b[0m \u001b[32m-19\u001b[0m \u001b[32m-11\u001b[0m \n"
          ]
        }
      ],
      "source": [
        "import random\n",
        "import numpy as np\n",
        "\n",
        "class PebbleStone:\n",
        "\n",
        "    def __init__(self, size: int):\n",
        "        self.size = size\n",
        "\n",
        "        max_value = 20 + 1\n",
        "        min_value = -20\n",
        "\n",
        "        # 행렬 랜덤 초기화\n",
        "        self.matrix = [[random.randrange(min_value, max_value) for i in range(3)] for j in range(size)]\n",
        "        print(np.matrix(self.matrix))\n",
        "\n",
        "        self.pattern = [[0], [1], [2], [0, 2]]\n",
        "        self.compatable_p = [[1, 2], [0, 2, 3], [0, 1], [1]]\n",
        "        self.peb = [[0 for i in range(4)] for j in range(size)]\n",
        "\n",
        "        self.pebble(size)\n",
        "        self.printPebbles()\n",
        "\n",
        "    def pebble(self, n: int):\n",
        "        # 초기 조건: 첫 번째 행의 비용 계산\n",
        "        for p in range(4):  # 4개의 패턴\n",
        "            self.peb[0][p] = sum(self.matrix[0][j] for j in self.pattern[p])\n",
        "\n",
        "        # 동적 계획법으로 최적 비용 계산\n",
        "        for i in range(1, n):  # 두 번째 행부터 마지막 행까지\n",
        "            for p in range(4):  # 현재 행의 패턴\n",
        "                # 이전 행에서 가능한 패턴 중 최댓값을 선택\n",
        "                max_prev = max(self.peb[i-1][q] for q in self.compatable_p[p])\n",
        "                # 현재 패턴의 비용 추가\n",
        "                self.peb[i][p] = max_prev + sum(self.matrix[i][j] for j in self.pattern[p])\n",
        "\n",
        "    def printPebbles(self):\n",
        "        selectIdx = [-1 for _ in range(self.size)]\n",
        "\n",
        "        # get the index of the solution\n",
        "        sol_p = self.peb[self.size-1].index(max(self.peb[self.size-1]))\n",
        "        selectIdx[self.size-1] = sol_p\n",
        "\n",
        "        for i in range(self.size-1, 1, -1):\n",
        "            p = selectIdx[i]\n",
        "            w = sum([self.matrix[i][j] for j in self.pattern[p]])\n",
        "            peb_cost = self.peb[i][p]\n",
        "            selectIdx[i-1] = self.peb[i-1].index(peb_cost - w)\n",
        "\n",
        "        for i in range(self.size):\n",
        "            for j in range(3):\n",
        "                sol_pattern = self.pattern[selectIdx[i]]\n",
        "                str = \"\\x1b[{}m{}\\x1b[0m \".format(31 if j in sol_pattern else 32, self.matrix[i][j])\n",
        "                print(str, end='')\n",
        "            print('')\n",
        "\n",
        "\n",
        "# let's test\n",
        "ps = PebbleStone(5)\n"
      ]
    },
    {
      "cell_type": "markdown",
      "metadata": {
        "id": "z8locFsP4-QJ"
      },
      "source": [
        "## 행렬의 곱셈"
      ]
    },
    {
      "cell_type": "code",
      "execution_count": null,
      "metadata": {
        "id": "-b3il0ZR4-QJ",
        "outputId": "1d7fcab5-217d-4f8c-ff65-04472cf8513a"
      },
      "outputs": [
        {
          "name": "stdout",
          "output_type": "stream",
          "text": [
            "[15, 7, 5, 10, 14, 5]\n",
            "[[   0  525 1275 2275 1650]\n",
            " [   0    0  350 1190 1125]\n",
            " [   0    0    0  700  950]\n",
            " [   0    0    0    0  700]\n",
            " [   0    0    0    0    0]]\n",
            "0(1(2(34)))\n"
          ]
        }
      ],
      "source": [
        "class MathMultiply:\n",
        "    def __init__(self, size:int):\n",
        "        self.size = size\n",
        "\n",
        "        max_value = 20 + 1\n",
        "        min_value = 3\n",
        "\n",
        "        self.p = [random.randrange(min_value, max_value) for _ in range(0, size+1)]\n",
        "        self.m = [[0 for i in range(size)] for j in range(size)]\n",
        "\n",
        "        print(self.p)\n",
        "\n",
        "        self.matrixchain(size)\n",
        "\n",
        "        print(np.matrix(self.m))\n",
        "\n",
        "        self.drawParentheses()\n",
        "\n",
        "\n",
        "    def matrixchain(self, n:int):\n",
        "        pass\n",
        "\n",
        "    def drawParentheses(self):\n",
        "        s_paren = []\n",
        "        e_paren = []\n",
        "\n",
        "        def rParentheses(i:int, j:int):\n",
        "            if( i == j ):\n",
        "                return False\n",
        "\n",
        "            idx = [self.m[i][k] + self.m[k+1][j] for k in range(i, j)]\n",
        "            m_idx = min(idx)\n",
        "\n",
        "            k = idx.index(m_idx) + i\n",
        "\n",
        "            # v = m_idx + self.p[i]*self.p[k+1]*self.p[j+1]\n",
        "\n",
        "            if rParentheses(i, k):\n",
        "                s_paren.append(i)\n",
        "                e_paren.append(k)\n",
        "\n",
        "            if rParentheses(k+1, j):\n",
        "                s_paren.append(k+1)\n",
        "                e_paren.append(j)\n",
        "\n",
        "            return True\n",
        "\n",
        "        rParentheses(0, self.size-1)\n",
        "\n",
        "        result = \"\"\n",
        "        for i in range(self.size):\n",
        "            c = len([k for k in s_paren if k == i])\n",
        "            for _ in range(c):\n",
        "                result += \"(\"\n",
        "            result += str(i)\n",
        "\n",
        "            c = len([k for k in e_paren if k == i])\n",
        "            for _ in range(c):\n",
        "                result += \")\"\n",
        "\n",
        "        print(result)\n",
        "\n",
        "\n",
        "\n",
        "mm = MathMultiply(5)"
      ]
    }
  ],
  "metadata": {
    "kernelspec": {
      "display_name": ".venv",
      "language": "python",
      "name": "python3"
    },
    "language_info": {
      "codemirror_mode": {
        "name": "ipython",
        "version": 3
      },
      "file_extension": ".py",
      "mimetype": "text/x-python",
      "name": "python",
      "nbconvert_exporter": "python",
      "pygments_lexer": "ipython3",
      "version": "3.12.3"
    },
    "colab": {
      "provenance": [],
      "include_colab_link": true
    }
  },
  "nbformat": 4,
  "nbformat_minor": 0
}