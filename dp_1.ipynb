{
  "cells": [
    {
      "cell_type": "markdown",
      "metadata": {
        "id": "2I_d-0x_QnpO"
      },
      "source": [
        "# 동적 프로그래밍(Dynamic programming)\n",
        "\n",
        "## 행렬 경로 문제\n",
        "\n"
      ]
    },
    {
      "cell_type": "code",
      "execution_count": 5,
      "metadata": {
        "id": "6E4RCZATQnpQ",
        "outputId": "444b9eac-2eb5-4ada-8660-6595cbe1fcbd",
        "colab": {
          "base_uri": "https://localhost:8080/"
        }
      },
      "outputs": [
        {
          "output_type": "stream",
          "name": "stdout",
          "text": [
            "given matrix: \n",
            "[[ 8  3 16  4  4 11 12 14 12  4]\n",
            " [17  3  3 17  7  7 14 12 14 15]\n",
            " [20 13 20  6  9  4  6  3 15 14]\n",
            " [19  3 20 20 18 15 14 18  5  4]\n",
            " [16  9  7  9 10 11 13 16 10  9]\n",
            " [16  3 17  4  3 15 10  3  5  3]\n",
            " [20 18  9  5  4 13 17 11 11 11]\n",
            " [10  9 11 13 11 10  8 17  4 17]\n",
            " [17  6  5  5 13  3  3  5 19  3]\n",
            " [12 12 13 12 18 14 20  9  7 16]]\n",
            "cost matrix: \n",
            "[[  8  11  27  31  35  46  58  72  84  88]\n",
            " [ 25  28  31  48  55  62  76  88 102 117]\n",
            " [ 45  58  78  84  93  97 103 106 121 135]\n",
            " [ 64  67  98 118 136 151 165 183 188 192]\n",
            " [ 80  89 105 127 146 162 178 199 209 218]\n",
            " [ 96  99 122 131 149 177 188 202 214 221]\n",
            " [116 134 143 148 153 190 207 218 229 240]\n",
            " [126 143 154 167 178 200 215 235 239 257]\n",
            " [143 149 159 172 191 203 218 240 259 262]\n",
            " [155 167 180 192 210 224 244 253 266 282]]\n"
          ]
        }
      ],
      "source": [
        "import random\n",
        "import numpy as np\n",
        "\n",
        "class MatrixPathProblem:\n",
        "    def __init__(self, matrix_size:int):\n",
        "        size=matrix_size\n",
        "\n",
        "        max_value = 20 + 1\n",
        "        min_value = 3\n",
        "        # 행렬 랜덤 초기화\n",
        "        self.matrix = [[random.randrange(min_value, max_value) for i in range(size)] for j in range(size)];\n",
        "        # 비용 행렬 초기화\n",
        "        self.c = [[0 for i in range(size)] for j in range(size)];\n",
        "\n",
        "        # n, n 까지 이르는 경로중 최대 점수\n",
        "        self.CalculatePath(size -1, size -1)\n",
        "\n",
        "        # 결과 출력\n",
        "        self.print_result()\n",
        "\n",
        "    def CalculatePath(self, i, j):\n",
        "        # 초기값 설정\n",
        "        self.c[0][0] = self.matrix[0][0]\n",
        "\n",
        "        # 첫 번째 행 초기화\n",
        "        for col in range(1, j + 1):\n",
        "            self.c[0][col] = self.c[0][col - 1] + self.matrix[0][col]\n",
        "\n",
        "        # 첫 번째 열 초기화\n",
        "        for row in range(1, i + 1):\n",
        "            self.c[row][0] = self.c[row - 1][0] + self.matrix[row][0]\n",
        "\n",
        "        # 나머지 셀 계산\n",
        "        for row in range(1, i + 1):\n",
        "            for col in range(1, j + 1):\n",
        "                self.c[row][col] = self.matrix[row][col] + max(self.c[row - 1][col], self.c[row][col - 1])\n",
        "\n",
        "    def print_result(self):\n",
        "        print(\"given matrix: \")\n",
        "        print(np.matrix(self.matrix))\n",
        "        print(\"cost matrix: \")\n",
        "        print(np.matrix(self.c))\n",
        "\n",
        "mpp = MatrixPathProblem(10)"
      ]
    },
    {
      "cell_type": "markdown",
      "metadata": {
        "id": "24geJzmvQnpS"
      },
      "source": [
        "## 돌 놓기"
      ]
    },
    {
      "cell_type": "code",
      "execution_count": 7,
      "metadata": {
        "id": "ANry3liUQnpS",
        "outputId": "f207a2ff-f55e-410d-ffad-c95d618a5905",
        "colab": {
          "base_uri": "https://localhost:8080/"
        }
      },
      "outputs": [
        {
          "output_type": "stream",
          "name": "stdout",
          "text": [
            "[[ -2   0   8]\n",
            " [ -2  11  -2]\n",
            " [-14 -11 -15]\n",
            " [ -5 -18   0]\n",
            " [-20 -18  12]]\n",
            "\u001b[31m-2\u001b[0m \u001b[32m0\u001b[0m \u001b[31m8\u001b[0m \n",
            "\u001b[32m-2\u001b[0m \u001b[31m11\u001b[0m \u001b[32m-2\u001b[0m \n",
            "\u001b[32m-14\u001b[0m \u001b[32m-11\u001b[0m \u001b[31m-15\u001b[0m \n",
            "\u001b[31m-5\u001b[0m \u001b[32m-18\u001b[0m \u001b[32m0\u001b[0m \n",
            "\u001b[32m-20\u001b[0m \u001b[32m-18\u001b[0m \u001b[31m12\u001b[0m \n"
          ]
        }
      ],
      "source": [
        "class PebbleStone:\n",
        "\n",
        "    def __init__(self, size:int):\n",
        "        self.size = size\n",
        "\n",
        "        max_value = 20 + 1\n",
        "        min_value = -20\n",
        "\n",
        "        # 행렬 랜덤 초기화\n",
        "        self.matrix = [[random.randrange(min_value, max_value) for i in range(3)] for j in range(size)];\n",
        "        print(np.matrix(self.matrix))\n",
        "\n",
        "        self.pattern = [[0], [1], [2], [0, 2]]\n",
        "\n",
        "        self.compatable_p = [[1, 2], [0, 2, 3], [0, 1], [1]]\n",
        "\n",
        "        self.peb = [[0 for i in range(4)] for j in range(size)]\n",
        "\n",
        "        self.pebble(size)\n",
        "        self.printPebbles()\n",
        "\n",
        "\n",
        "    def pebble(self, n: int):\n",
        "        # 초기 조건: 첫 번째 행의 비용 계산\n",
        "        for p in range(4):  # 4개의 패턴\n",
        "            self.peb[0][p] = sum(self.matrix[0][j] for j in self.pattern[p])\n",
        "\n",
        "        # 동적 계획법으로 최적 비용 계산\n",
        "        for i in range(1, n):  # 두 번째 행부터 마지막 행까지\n",
        "            for p in range(4):  # 현재 행의 패턴\n",
        "                # 이전 행에서 가능한 패턴 중 최댓값을 선택\n",
        "                max_prev = max(self.peb[i-1][q] for q in self.compatable_p[p])\n",
        "                # 현재 패턴의 비용 추가\n",
        "                self.peb[i][p] = max_prev + sum(self.matrix[i][j] for j in self.pattern[p])\n",
        "\n",
        "\n",
        "    def printPebbles(self):\n",
        "        selectIdx = [-1 for _ in range(self.size)]\n",
        "\n",
        "        # get the index of the solution\n",
        "        sol_p = self.peb[self.size-1].index( max(self.peb[self.size-1]) )\n",
        "        selectIdx[self.size-1] = sol_p\n",
        "\n",
        "\n",
        "        for i in range(self.size-1, 1, -1):\n",
        "            p = selectIdx[i]\n",
        "            w = sum([ self.matrix[i][j] for j in self.pattern[p]])\n",
        "            peb_cost = self.peb[i][p]\n",
        "            selectIdx[i-1] = self.peb[i-1].index( peb_cost - w )\n",
        "\n",
        "\n",
        "        for i in range(self.size):\n",
        "            for j in range(3):\n",
        "                sol_pattern = self.pattern[selectIdx[i]]\n",
        "                str = \"\\x1b[{}m{}\\x1b[0m \".format(31 if j in sol_pattern else 32, self.matrix[i][j])\n",
        "                print(str, end='')\n",
        "            print('')\n",
        "\n",
        "\n",
        "# let's test\n",
        "ps = PebbleStone(5)"
      ]
    },
    {
      "cell_type": "markdown",
      "metadata": {
        "id": "lW3wRbQuQnpS"
      },
      "source": [
        "## 행렬의 곱셈"
      ]
    },
    {
      "cell_type": "code",
      "execution_count": 9,
      "metadata": {
        "id": "g2w89eV5QnpS",
        "outputId": "0626cc8c-df6f-4c5b-c6ae-bc582bc5529f",
        "colab": {
          "base_uri": "https://localhost:8080/"
        }
      },
      "outputs": [
        {
          "output_type": "stream",
          "name": "stdout",
          "text": [
            "[11, 3, 4, 9, 8, 7]\n",
            "[[  0 132 405 588 723]\n",
            " [  0   0 108 324 492]\n",
            " [  0   0   0 288 512]\n",
            " [  0   0   0   0 504]\n",
            " [  0   0   0   0   0]]\n",
            "0(((12)3)4)\n"
          ]
        }
      ],
      "source": [
        "class MathMultiply:\n",
        "    def __init__(self, size:int):\n",
        "        self.size = size\n",
        "\n",
        "        max_value = 20 + 1\n",
        "        min_value = 3\n",
        "\n",
        "        self.p = [random.randrange(min_value, max_value) for _ in range(0, size+1)]\n",
        "        self.m = [[0 for i in range(size)] for j in range(size)]\n",
        "\n",
        "        print(self.p)\n",
        "\n",
        "        self.matrixchain(size)\n",
        "\n",
        "        print(np.matrix(self.m))\n",
        "\n",
        "        self.drawParentheses()\n",
        "\n",
        "\n",
        "    def matrixchain(self, n: int):\n",
        "        # 초기화: 대각선의 값은 0\n",
        "        for i in range(n):\n",
        "            self.m[i][i] = 0\n",
        "\n",
        "        # l은 부분 문제의 길이\n",
        "        for l in range(2, n + 1):  # l = 2부터 n까지\n",
        "            for i in range(n - l + 1):  # 시작 인덱스\n",
        "                j = i + l - 1  # 끝 인덱스\n",
        "                self.m[i][j] = float('inf')  # 초기화\n",
        "                for k in range(i, j):  # i에서 j-1까지\n",
        "                    # 점화식\n",
        "                    cost = self.m[i][k] + self.m[k + 1][j] + self.p[i] * self.p[k + 1] * self.p[j + 1]\n",
        "                    if cost < self.m[i][j]:\n",
        "                        self.m[i][j] = cost\n",
        "\n",
        "    def drawParentheses(self):\n",
        "        s_paren = []\n",
        "        e_paren = []\n",
        "\n",
        "        def rParentheses(i:int, j:int):\n",
        "            if( i == j ):\n",
        "                return False\n",
        "\n",
        "            idx = [self.m[i][k] + self.m[k+1][j] for k in range(i, j)]\n",
        "            m_idx = min(idx)\n",
        "\n",
        "            k = idx.index(m_idx) + i\n",
        "\n",
        "            if rParentheses(i, k):\n",
        "                s_paren.append(i)\n",
        "                e_paren.append(k)\n",
        "\n",
        "            if rParentheses(k+1, j):\n",
        "                s_paren.append(k+1)\n",
        "                e_paren.append(j)\n",
        "\n",
        "            return True\n",
        "\n",
        "        rParentheses(0, self.size-1)\n",
        "\n",
        "        result = \"\"\n",
        "        for i in range(self.size):\n",
        "            c = len([k for k in s_paren if k == i])\n",
        "            for _ in range(c):\n",
        "                result += \"(\"\n",
        "            result += str(i)\n",
        "\n",
        "            c = len([k for k in e_paren if k == i])\n",
        "            for _ in range(c):\n",
        "                result += \")\"\n",
        "\n",
        "        print(result)\n",
        "\n",
        "\n",
        "\n",
        "mm = MathMultiply(5)"
      ]
    },
    {
      "cell_type": "markdown",
      "metadata": {
        "id": "9F6pg314QnpT"
      },
      "source": [
        "## LCS(최장 부분 공통 순서)"
      ]
    },
    {
      "cell_type": "code",
      "execution_count": 10,
      "metadata": {
        "id": "k6t-N7n4QnpT",
        "outputId": "154adda8-e7d2-4b83-8adf-021b3862e765",
        "colab": {
          "base_uri": "https://localhost:8080/"
        }
      },
      "outputs": [
        {
          "output_type": "stream",
          "name": "stdout",
          "text": [
            "[[0 0 0 0 0]\n",
            " [0 1 1 1 1]\n",
            " [0 1 2 2 2]\n",
            " [0 1 2 2 3]\n",
            " [0 1 2 2 3]\n",
            " [0 1 2 2 3]]\n",
            "LCS: ACG\n"
          ]
        }
      ],
      "source": [
        "import numpy as np\n",
        "\n",
        "class LCS:\n",
        "    def __init__(self, X, Y):\n",
        "        self.X = X\n",
        "        self.Y = Y\n",
        "\n",
        "        self.m = len(X)\n",
        "        self.n = len(Y)\n",
        "\n",
        "        self.C = [[0 for i in range(self.n + 1)] for j in range(self.m + 1)]\n",
        "\n",
        "        self.findLCS()\n",
        "\n",
        "        print(np.matrix(self.C))\n",
        "\n",
        "        self.printLCS()\n",
        "\n",
        "    def findLCS(self):\n",
        "        # LCS 테이블 채우기\n",
        "        for i in range(1, self.m + 1):\n",
        "            for j in range(1, self.n + 1):\n",
        "                if self.X[i - 1] == self.Y[j - 1]:  # 문자가 같으면\n",
        "                    self.C[i][j] = self.C[i - 1][j - 1] + 1\n",
        "                else:  # 문자가 다르면\n",
        "                    self.C[i][j] = max(self.C[i - 1][j], self.C[i][j - 1])\n",
        "\n",
        "    def printLCS(self):\n",
        "        # LCS 추적\n",
        "        i, j = self.m, self.n\n",
        "        lcs_result = \"\"\n",
        "\n",
        "        while i > 0 and j > 0:\n",
        "            if self.X[i - 1] == self.Y[j - 1]:  # 문자가 같으면\n",
        "                lcs_result = self.X[i - 1] + lcs_result\n",
        "                i -= 1\n",
        "                j -= 1\n",
        "            elif self.C[i - 1][j] >= self.C[i][j - 1]:  # 위쪽 값이 더 크면\n",
        "                i -= 1\n",
        "            else:  # 왼쪽 값이 더 크면\n",
        "                j -= 1\n",
        "\n",
        "        print(\"LCS:\", lcs_result)\n",
        "\n",
        "lcs = LCS(\"ACGGA\", \"ACTG\")"
      ]
    }
  ],
  "metadata": {
    "kernelspec": {
      "display_name": ".venv",
      "language": "python",
      "name": "python3"
    },
    "language_info": {
      "codemirror_mode": {
        "name": "ipython",
        "version": 3
      },
      "file_extension": ".py",
      "mimetype": "text/x-python",
      "name": "python",
      "nbconvert_exporter": "python",
      "pygments_lexer": "ipython3",
      "version": "3.12.3"
    },
    "colab": {
      "provenance": []
    }
  },
  "nbformat": 4,
  "nbformat_minor": 0
}