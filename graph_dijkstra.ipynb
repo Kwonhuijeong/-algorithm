{
  "cells": [
    {
      "cell_type": "markdown",
      "metadata": {
        "id": "MqD31L8i1glm"
      },
      "source": [
        "# 다익스트라(Dijkstra) 알고리즘\n",
        "\n",
        "다익스트라 알고리즘을 구현해보자.\n",
        "이전에 사용했던 Graph와 Vertex 클래스를 변경하여 사용해보자."
      ]
    },
    {
      "cell_type": "code",
      "execution_count": 2,
      "metadata": {
        "id": "offtb_AV1gln"
      },
      "outputs": [],
      "source": [
        "import math\n",
        "\n",
        "class Vertex:\n",
        "    def __init__(self, v):\n",
        "        self.inNeighbors = [] # 진입 간선: (이웃 정점, 가중치) 의 형태로 저장되어있다.\n",
        "        self.outNeighbors = [] # 진출 간선\n",
        "        self.value = v\n",
        "\n",
        "        self.prev = None # 경로가 어느 곳과 연결되어야 하는가?\n",
        "        self.dist = math.inf # d 값\n",
        "\n",
        "    def getOutNeighborsWithWeights(self):\n",
        "        return self.outNeighbors\n",
        "\n",
        "    def addOutNeighbor(self,v,wt):\n",
        "        self.outNeighbors.append((v,wt))\n",
        "\n",
        "    def addInNeighbor(self,v,wt):\n",
        "        self.inNeighbors.append((v,wt))\n",
        "\n",
        "    def __str__(self):\n",
        "        return str(self.value)\n",
        "\n",
        "\n",
        "class Graph:\n",
        "    def __init__(self):\n",
        "        self.vertices = []\n",
        "\n",
        "    def addVertex(self,n):\n",
        "        self.vertices.append(n)\n",
        "\n",
        "    # Vertex u 에서 v 로 가는 유향 간선(directed edge) 추가\n",
        "    def addDiEdge(self,u,v,wt=1):\n",
        "        u.addOutNeighbor(v,wt=wt)\n",
        "        v.addInNeighbor(u,wt=wt)\n",
        "\n",
        "    # 유향 간선 리스트를 반환\n",
        "    def getDirEdges(self):\n",
        "        ret = []\n",
        "        for v in self.vertices:\n",
        "            for u, wt in v.getOutNeighborsWithWeights():\n",
        "                ret.append( [v,u,wt] )\n",
        "        return ret\n",
        "\n",
        "    def __str__(self):\n",
        "        ret = \"Graph with:\\n\"\n",
        "        ret += \"\\t Vertices:\\n\\t\"\n",
        "        for v in self.vertices:\n",
        "            ret += str(v) + \",\"\n",
        "        ret += \"\\n\"\n",
        "        ret += \"\\t Edges:\\n\\t\"\n",
        "        for a,b,wt in self.getDirEdges():\n",
        "            ret += \"(\" + str(a) + \",\" + str(b) + \"; wt:\" + str(wt) + \") \"\n",
        "        ret += \"\\n\"\n",
        "        return ret"
      ]
    },
    {
      "cell_type": "markdown",
      "metadata": {
        "id": "M_aIGOdM1glp"
      },
      "source": [
        "## 랜덤 그래프 생성\n",
        "\n",
        "이번 과제에서는 그래프를 랜덤하게 작성해봅니다."
      ]
    },
    {
      "cell_type": "code",
      "execution_count": 1,
      "metadata": {
        "id": "enyBQVQx1glp"
      },
      "outputs": [],
      "source": [
        "from random import random\n",
        "from random import choice\n",
        "\n",
        "def randomGraph(n,p,wts=[1]):\n",
        "    G = Graph()\n",
        "    V = [ Vertex(x) for x in range(n) ]\n",
        "    for v in V:\n",
        "        G.addVertex(v)\n",
        "    for v in V:\n",
        "        for w in V:\n",
        "            if v != w:\n",
        "                if random() < p:\n",
        "                    G.addDiEdge(v,w,wt=choice(wts))\n",
        "    return G"
      ]
    },
    {
      "cell_type": "markdown",
      "metadata": {
        "id": "ORN-e9hs1glq"
      },
      "source": [
        "## 그래프 렌더링\n",
        "\n",
        "생성된 그래프를 그려봅시다."
      ]
    },
    {
      "cell_type": "code",
      "execution_count": 3,
      "metadata": {
        "id": "sstsQAeC1glq"
      },
      "outputs": [],
      "source": [
        "from graphviz import Digraph as vizGraph\n",
        "\n",
        "def renderGraph(g:Graph):\n",
        "    vg = vizGraph('Graph',strict=True)\n",
        "\n",
        "    # 정점 추가\n",
        "    for v in g.vertices:\n",
        "        vg.node(str(v), label=str(v)+ \"(\"+str(v.dist)+\")\")\n",
        "\n",
        "    # 간선 추가\n",
        "    for v in g.vertices:\n",
        "        for (u, wt) in v.outNeighbors:\n",
        "            if u.prev == v:\n",
        "                vg.edge(str(v), str(u), label=str(wt), color='red', penwidth='3')\n",
        "            else:\n",
        "                vg.edge(str(v), str(u), label=str(wt))\n",
        "\n",
        "    vg.render('render', view=True)\n",
        "    return vg\n"
      ]
    },
    {
      "cell_type": "markdown",
      "metadata": {
        "id": "btpHZ4qB1glq"
      },
      "source": [
        "## 알고리즘\n",
        "\n",
        "알고리즘을 구현하기 위해 우리는 V-S 집합에서 최소 dist를 가진 노드를 가져와야합니다.\n",
        "이를 위해서 heapdict 라는 패키지를 사용할 것입니다.\n",
        "\n",
        "사용법은 다음과 같습니다.\n",
        "\n",
        "```python\n",
        "#새로 선언\n",
        "notS = heapdict.heapdict()\n",
        "\n",
        "#값의 삽입\n",
        "#정점 v에 distance 값(경로값) 할당\n",
        "notS[v] = distance\n",
        "\n",
        "#비었는지 체크\n",
        "len(notS) != 0\n",
        "\n",
        "#최소 distance 값과 해당하는 정점 u를 받아온다.\n",
        "u, distance = notS.popitem()\n",
        "\n",
        "#정점 u 의 distance 값 업데이트\n",
        "#삽입과 동일합니다.\n",
        "notS[u] = distance + weight\n",
        "```\n",
        "\n",
        "이를 참고하여 다익스트라 알고리즘을 작성해봅시다."
      ]
    },
    {
      "cell_type": "code",
      "execution_count": 27,
      "metadata": {
        "colab": {
          "base_uri": "https://localhost:8080/"
        },
        "id": "-k2n7nfQ1glq",
        "outputId": "7961b567-e7d6-4da2-a609-d783e92077c1"
      },
      "outputs": [
        {
          "output_type": "stream",
          "name": "stdout",
          "text": [
            "Requirement already satisfied: heapdict in /usr/local/lib/python3.10/dist-packages (1.0.1)\n"
          ]
        }
      ],
      "source": [
        "!pip install heapdict\n",
        "\n",
        "import heapdict as heapdict\n",
        "\n",
        "def dijkstra(G, w):\n",
        "    S = []\n",
        "    for u in G.vertices:\n",
        "        u.dist = math.inf\n",
        "        u.prev = None\n",
        "    w.dist = 0\n",
        "\n",
        "    notS = heapdict.heapdict()\n",
        "    for u in G.vertices:\n",
        "        notS[u] = u.dist\n",
        "\n",
        "    while len(notS) != 0:\n",
        "        u, distance = notS.popitem()\n",
        "        S.append(u)\n",
        "\n",
        "        for neighbor, weight in u.getOutNeighborsWithWeights():\n",
        "            if neighbor.dist > distance + weight:\n",
        "                neighbor.dist = distance + weight\n",
        "                neighbor.prev = u\n",
        "                notS[neighbor] = neighbor.dist\n"
      ]
    },
    {
      "cell_type": "markdown",
      "metadata": {
        "id": "zx6rY5fs1glq"
      },
      "source": [
        "## 최소 비용 경로\n",
        "\n",
        "최소 비용 경로를 찾는 코드입니다.\n",
        "\n",
        "prev를 따라 경로를 재구성합니다."
      ]
    },
    {
      "cell_type": "code",
      "execution_count": 28,
      "metadata": {
        "id": "OQGMP79f1glr"
      },
      "outputs": [],
      "source": [
        "def dijkstra_shortestPaths(G, w):\n",
        "    dijkstra(G, w)\n",
        "    # 각 정점마다 최단 경로를 출력해보자\n",
        "    for v in G.vertices:\n",
        "        if v.dist == math.inf:\n",
        "            print(\"Cannot reach \" + str(v))\n",
        "            continue\n",
        "        path = []\n",
        "        current = v\n",
        "        while current != w:\n",
        "            path.append(current)\n",
        "            current = current.prev\n",
        "        path.append(current)\n",
        "        path.reverse()\n",
        "        print([ str(x) for x in path ])"
      ]
    },
    {
      "cell_type": "markdown",
      "metadata": {
        "id": "y3IDtlSe1glr"
      },
      "source": [
        "## 테스트 코드"
      ]
    },
    {
      "cell_type": "code",
      "execution_count": 29,
      "metadata": {
        "colab": {
          "base_uri": "https://localhost:8080/",
          "height": 513
        },
        "id": "R0eoxXWX1glr",
        "outputId": "4dcfffea-0cc6-4d8c-f76e-b31fd9fe4c48"
      },
      "outputs": [
        {
          "output_type": "stream",
          "name": "stdout",
          "text": [
            "Graph with:\n",
            "\t Vertices:\n",
            "\t0,1,2,3,4,\n",
            "\t Edges:\n",
            "\t(1,2; wt:1) (2,0; wt:4) (4,3; wt:5) \n",
            "\n",
            "['0']\n",
            "Cannot reach 1\n",
            "Cannot reach 2\n",
            "Cannot reach 3\n",
            "Cannot reach 4\n"
          ]
        },
        {
          "output_type": "execute_result",
          "data": {
            "image/svg+xml": "<?xml version=\"1.0\" encoding=\"UTF-8\" standalone=\"no\"?>\n<!DOCTYPE svg PUBLIC \"-//W3C//DTD SVG 1.1//EN\"\n \"http://www.w3.org/Graphics/SVG/1.1/DTD/svg11.dtd\">\n<!-- Generated by graphviz version 2.43.0 (0)\n -->\n<!-- Title: Graph Pages: 1 -->\n<svg width=\"148pt\" height=\"218pt\"\n viewBox=\"0.00 0.00 148.09 218.00\" xmlns=\"http://www.w3.org/2000/svg\" xmlns:xlink=\"http://www.w3.org/1999/xlink\">\n<g id=\"graph0\" class=\"graph\" transform=\"scale(1 1) rotate(0) translate(4 214)\">\n<title>Graph</title>\n<polygon fill=\"white\" stroke=\"transparent\" points=\"-4,4 -4,-214 144.09,-214 144.09,4 -4,4\"/>\n<!-- 0 -->\n<g id=\"node1\" class=\"node\">\n<title>0</title>\n<ellipse fill=\"none\" stroke=\"black\" cx=\"30.55\" cy=\"-18\" rx=\"27\" ry=\"18\"/>\n<text text-anchor=\"middle\" x=\"30.55\" y=\"-14.3\" font-family=\"Times,serif\" font-size=\"14.00\">0(0)</text>\n</g>\n<!-- 1 -->\n<g id=\"node2\" class=\"node\">\n<title>1</title>\n<ellipse fill=\"none\" stroke=\"black\" cx=\"30.55\" cy=\"-192\" rx=\"30.59\" ry=\"18\"/>\n<text text-anchor=\"middle\" x=\"30.55\" y=\"-188.3\" font-family=\"Times,serif\" font-size=\"14.00\">1(inf)</text>\n</g>\n<!-- 2 -->\n<g id=\"node3\" class=\"node\">\n<title>2</title>\n<ellipse fill=\"none\" stroke=\"black\" cx=\"30.55\" cy=\"-105\" rx=\"30.59\" ry=\"18\"/>\n<text text-anchor=\"middle\" x=\"30.55\" y=\"-101.3\" font-family=\"Times,serif\" font-size=\"14.00\">2(inf)</text>\n</g>\n<!-- 1&#45;&gt;2 -->\n<g id=\"edge1\" class=\"edge\">\n<title>1&#45;&gt;2</title>\n<path fill=\"none\" stroke=\"black\" d=\"M30.55,-173.8C30.55,-162.16 30.55,-146.55 30.55,-133.24\"/>\n<polygon fill=\"black\" stroke=\"black\" points=\"34.05,-133.18 30.55,-123.18 27.05,-133.18 34.05,-133.18\"/>\n<text text-anchor=\"middle\" x=\"34.05\" y=\"-144.8\" font-family=\"Times,serif\" font-size=\"14.00\">1</text>\n</g>\n<!-- 2&#45;&gt;0 -->\n<g id=\"edge2\" class=\"edge\">\n<title>2&#45;&gt;0</title>\n<path fill=\"none\" stroke=\"black\" d=\"M30.55,-86.8C30.55,-75.16 30.55,-59.55 30.55,-46.24\"/>\n<polygon fill=\"black\" stroke=\"black\" points=\"34.05,-46.18 30.55,-36.18 27.05,-46.18 34.05,-46.18\"/>\n<text text-anchor=\"middle\" x=\"34.05\" y=\"-57.8\" font-family=\"Times,serif\" font-size=\"14.00\">4</text>\n</g>\n<!-- 3 -->\n<g id=\"node4\" class=\"node\">\n<title>3</title>\n<ellipse fill=\"none\" stroke=\"black\" cx=\"109.55\" cy=\"-105\" rx=\"30.59\" ry=\"18\"/>\n<text text-anchor=\"middle\" x=\"109.55\" y=\"-101.3\" font-family=\"Times,serif\" font-size=\"14.00\">3(inf)</text>\n</g>\n<!-- 4 -->\n<g id=\"node5\" class=\"node\">\n<title>4</title>\n<ellipse fill=\"none\" stroke=\"black\" cx=\"109.55\" cy=\"-192\" rx=\"30.59\" ry=\"18\"/>\n<text text-anchor=\"middle\" x=\"109.55\" y=\"-188.3\" font-family=\"Times,serif\" font-size=\"14.00\">4(inf)</text>\n</g>\n<!-- 4&#45;&gt;3 -->\n<g id=\"edge3\" class=\"edge\">\n<title>4&#45;&gt;3</title>\n<path fill=\"none\" stroke=\"black\" d=\"M109.55,-173.8C109.55,-162.16 109.55,-146.55 109.55,-133.24\"/>\n<polygon fill=\"black\" stroke=\"black\" points=\"113.05,-133.18 109.55,-123.18 106.05,-133.18 113.05,-133.18\"/>\n<text text-anchor=\"middle\" x=\"113.05\" y=\"-144.8\" font-family=\"Times,serif\" font-size=\"14.00\">5</text>\n</g>\n</g>\n</svg>\n",
            "text/plain": [
              "<graphviz.graphs.Digraph at 0x7c6dfc65d9c0>"
            ]
          },
          "metadata": {},
          "execution_count": 29
        }
      ],
      "source": [
        "G = randomGraph(5,.4,[1,2,3,4,5])\n",
        "print(G)\n",
        "dijkstra_shortestPaths(G, G.vertices[0])\n",
        "renderGraph(G)"
      ]
    }
  ],
  "metadata": {
    "kernelspec": {
      "display_name": ".venv",
      "language": "python",
      "name": "python3"
    },
    "language_info": {
      "codemirror_mode": {
        "name": "ipython",
        "version": 3
      },
      "file_extension": ".py",
      "mimetype": "text/x-python",
      "name": "python",
      "nbconvert_exporter": "python",
      "pygments_lexer": "ipython3",
      "version": "3.12.3"
    },
    "colab": {
      "provenance": []
    }
  },
  "nbformat": 4,
  "nbformat_minor": 0
}